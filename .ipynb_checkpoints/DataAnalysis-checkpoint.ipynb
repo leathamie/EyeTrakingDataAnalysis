{
 "cells": [
  {
   "cell_type": "code",
   "execution_count": 2,
   "metadata": {},
   "outputs": [],
   "source": [
    "import re\n",
    "import os "
   ]
  },
  {
   "cell_type": "markdown",
   "metadata": {},
   "source": [
    "### Parcours du dossier"
   ]
  },
  {
   "cell_type": "code",
   "execution_count": 28,
   "metadata": {},
   "outputs": [],
   "source": [
    "def getFilesNames():\n",
    "    files = []\n",
    "    folderPath = \"DATA/\"\n",
    "    for filename in os.listdir(folderPath):\n",
    "        \"\"\"\n",
    "            Browe all the cha files, for each files in the folder check \n",
    "            if it's a csv file \n",
    "        \"\"\"\n",
    "        match = re.match(\".*\\.csv\",filename)\n",
    "        if match:\n",
    "            files.append(folderPath + filename)\n",
    "            \n",
    "    return files"
   ]
  },
  {
   "cell_type": "markdown",
   "metadata": {},
   "source": [
    "### Découpage du fichier"
   ]
  },
  {
   "cell_type": "code",
   "execution_count": 21,
   "metadata": {},
   "outputs": [],
   "source": [
    "def extractFileContent(filename):\n",
    "    \"\"\"\n",
    "        take a cha file path and return a str with cha content\n",
    "    \"\"\"\n",
    "    fileContent = \"\"\n",
    "    file = open(filename, \"r\")\n",
    "    for line in file : \n",
    "        fileContent = filContent + line\n",
    "    return fileContent\n",
    "def contentToArray(fileContent):\n",
    "    print(fileContent)\n",
    "    tab\n",
    "    cols = fileContent.split('\\n')\n",
    "    for col in cols: \n",
    "        line = col.split(',')\n",
    "        tab.add(line)\n",
    "    print tab\n",
    "\n",
    "    \n",
    "#def getImgZones(filecontent): \n",
    "    \n",
    "    "
   ]
  },
  {
   "cell_type": "code",
   "execution_count": null,
   "metadata": {},
   "outputs": [],
   "source": [
    "\n",
    "files = getFilesNames()\n",
    "print (files)\n",
    "for file in files:\n",
    "    print (file)\n",
    "    content = extractFileContent(file)\n",
    "    print (content)\n",
    "    tabFile = contentToArray(content)\n",
    "    pirnt (tabFile)"
   ]
  },
  {
   "cell_type": "code",
   "execution_count": null,
   "metadata": {},
   "outputs": [],
   "source": []
  }
 ],
 "metadata": {
  "kernelspec": {
   "display_name": "Python 3",
   "language": "python",
   "name": "python3"
  },
  "language_info": {
   "codemirror_mode": {
    "name": "ipython",
    "version": 3
   },
   "file_extension": ".py",
   "mimetype": "text/x-python",
   "name": "python",
   "nbconvert_exporter": "python",
   "pygments_lexer": "ipython3",
   "version": "3.7.1"
  }
 },
 "nbformat": 4,
 "nbformat_minor": 2
}
